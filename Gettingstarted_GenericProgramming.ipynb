{
 "cells": [
  {
   "cell_type": "code",
   "execution_count": 1,
   "metadata": {},
   "outputs": [
    {
     "name": "stdout",
     "output_type": "stream",
     "text": [
      "\u001b[32m\u001b[1mActivated\u001b[0m /Users/Shane/Dropbox/GitHub/quantecon-notebooks-julia/Project.toml\u001b[39m\n",
      "\u001b[36m\u001b[1mInfo\u001b[0m Project name is quantecon-notebooks-julia, version is 0.8.0\u001b[39m\n"
     ]
    }
   ],
   "source": [
    "#Introduction to Types and Generic Programming\n",
    "using InstantiateFromURL\n",
    "# optionally add arguments to force installation: instantiate = true, precompile = true\n",
    "github_project(\"QuantEcon/quantecon-notebooks-julia\", version = \"0.8.0\")\n",
    "using LinearAlgebra, Statistics"
   ]
  },
  {
   "cell_type": "code",
   "execution_count": 2,
   "metadata": {},
   "outputs": [
    {
     "name": "stdout",
     "output_type": "stream",
     "text": [
      "Array{Float64,1} <: DenseArray{Float64,1} <: AbstractArray{Float64,1} <: Anyshow_supertypes(Vector{Float64}) = nothing\n"
     ]
    }
   ],
   "source": [
    "using Base: show_supertypes  # import the function from the `Base` package\n",
    "\n",
    "@show show_supertypes(Vector{Float64})\n",
    "\n",
    "c = [1.0, 2.0, 3.0]\n",
    "\n",
    "\n",
    "subtypes(AbstractVecOrMat{<:Real});\n"
   ]
  },
  {
   "cell_type": "code",
   "execution_count": 3,
   "metadata": {},
   "outputs": [
    {
     "name": "stdout",
     "output_type": "stream",
     "text": [
      "typeof(x1) = Array{Int64,1}\n",
      "typeof(x2) = Array{Float64,1}\n",
      "typeof(x) = Array{Int64,2}\n"
     ]
    },
    {
     "data": {
      "text/plain": [
       "1×3 Array{Int64,2}:\n",
       " 2  4  6"
      ]
     },
     "execution_count": 3,
     "metadata": {},
     "output_type": "execute_result"
    }
   ],
   "source": [
    "# Deducing and declaring types\n",
    "\n",
    "x1 = [1, 2, 3]\n",
    "x2 = [1.0, 2.0, 3.0]\n",
    "\n",
    "@show typeof(x1)\n",
    "@show typeof(x2);\n",
    "\n",
    "f(y) = 2y # define some function\n",
    "\n",
    "\n",
    "x = [1 2 3]\n",
    "@show typeof(x)\n",
    "z = f(x) # call with an integer array - compiler deduces type\n"
   ]
  },
  {
   "cell_type": "code",
   "execution_count": 353,
   "metadata": {},
   "outputs": [
    {
     "name": "stdout",
     "output_type": "stream",
     "text": [
      "typeof(f(1)) = Float64\n",
      "typeof(f(-1)) = Int64\n"
     ]
    }
   ],
   "source": [
    "# bad - we want type stability\n",
    "\n",
    "function f(x)\n",
    "    if x > 0\n",
    "        return 1.0\n",
    "    else\n",
    "        return 0 # probably meant `0.0`\n",
    "    end\n",
    "end\n",
    "\n",
    "@show typeof(f(1))\n",
    "@show typeof(f(-1));\n"
   ]
  },
  {
   "cell_type": "code",
   "execution_count": 8,
   "metadata": {},
   "outputs": [],
   "source": [
    "# creation of data types using struct\n",
    "\n",
    "struct FooNotTyped # immutable by default, use `mutable struct` otherwise\n",
    "    a # BAD! not typed\n",
    "    b\n",
    "    c\n",
    "end\n",
    "\n",
    "# add structure where types are chosen\n",
    "\n",
    "struct Foo\n",
    "    a::Float64\n",
    "    b::Int64\n",
    "    c::Vector{Float64}\n",
    "end\n",
    "\n"
   ]
  },
  {
   "cell_type": "code",
   "execution_count": 6,
   "metadata": {},
   "outputs": [
    {
     "name": "stdout",
     "output_type": "stream",
     "text": [
      "typeof(foo) = Foo\n",
      "foo.a = 2.0\n",
      "foo.b = 3\n",
      "foo.c = [1.0, 2.0, 3.0]\n",
      "typeof(foo.a) = Float64\n",
      "typeof(foo.b) = Int64\n"
     ]
    },
    {
     "data": {
      "text/plain": [
       "Int64"
      ]
     },
     "execution_count": 6,
     "metadata": {},
     "output_type": "execute_result"
    }
   ],
   "source": [
    "foo_nt = FooNotTyped(2.0, 3, [1.0, 2.0, 3.0])  # new `FooNotTyped`\n",
    "foo = Foo(2.0, 3, [1.0, 2.0, 3.0]) # creates a new `Foo`\n",
    "\n",
    "@show typeof(foo)\n",
    "@show foo.a       # get the value for a field\n",
    "@show foo.b\n",
    "@show foo.c;\n",
    "\n",
    "@show typeof(foo.a)\n",
    "@show typeof(foo.b)\n",
    "\n",
    "# foo.a = 2.0     # fails since it is immutable"
   ]
  },
  {
   "cell_type": "code",
   "execution_count": 9,
   "metadata": {},
   "outputs": [
    {
     "name": "stdout",
     "output_type": "stream",
     "text": [
      "f(foo) = 11.0\n",
      "f(foo_nt) = 11.0\n"
     ]
    }
   ],
   "source": [
    "f(x) = x.a + x.b + sum(x.c) # use the type\n",
    "a = 2.0\n",
    "b = 3\n",
    "c = [1.0, 2.0, 3.0]\n",
    "foo = Foo(a, b, c)\n",
    "@show f(foo)   # call with the foo, no problem\n",
    "\n",
    "# some other typed for the values\n",
    "a = 2   # not a floating point but `f()` would work\n",
    "b = 3\n",
    "c = [1.0, 2.0, 3.0]'   # transpose is not a `Vector` but `f()` would work\n",
    "# foo = Foo(a, b, c)   # fails to compile\n",
    "\n",
    "# works with `NotTyped` version, but low performance\n",
    "foo_nt = FooNotTyped(a, b, c)\n",
    "@show f(foo_nt);"
   ]
  },
  {
   "cell_type": "code",
   "execution_count": 10,
   "metadata": {},
   "outputs": [
    {
     "name": "stdout",
     "output_type": "stream",
     "text": [
      "typeof(foo) = Foo3{Int64,Int64,Adjoint{Float64,Array{Float64,1}}}\n"
     ]
    },
    {
     "data": {
      "text/plain": [
       "11.0"
      ]
     },
     "execution_count": 10,
     "metadata": {},
     "output_type": "execute_result"
    }
   ],
   "source": [
    "struct Foo3{T1, T2, T3}\n",
    "    a::T1   # could be any type\n",
    "    b::T2\n",
    "    c::T3\n",
    "end\n",
    "\n",
    "# works fine\n",
    "a = 2\n",
    "b = 3\n",
    "c = [1.0, 2.0, 3.0]'    # transpose is not a `Vector` but `f()` would work\n",
    "foo = Foo3(a, b, c)\n",
    "@show typeof(foo)\n",
    "f(foo)\n",
    "\n"
   ]
  },
  {
   "cell_type": "code",
   "execution_count": 11,
   "metadata": {},
   "outputs": [
    {
     "data": {
      "text/plain": [
       "Foo4{Int64,Int64,Adjoint{Float64,Array{Float64,1}}}(2, 3, [1.0 2.0 3.0])"
      ]
     },
     "execution_count": 11,
     "metadata": {},
     "output_type": "execute_result"
    }
   ],
   "source": [
    "a = 2\n",
    "b = 3\n",
    "c = [1.0, 2.0, 3.0]' \n",
    "\n",
    "struct Foo4{T1 <: Real, T2 <: Real , T3<:AbstractVecOrMat{<:Real} }\n",
    "    a::T1\n",
    "    b::T2\n",
    "    c::T3\n",
    "end\n",
    "foo = Foo4(a,b,c) # no problem and high performance\n"
   ]
  },
  {
   "cell_type": "code",
   "execution_count": 12,
   "metadata": {},
   "outputs": [
    {
     "name": "stdout",
     "output_type": "stream",
     "text": [
      "foo = Foo5\n",
      "  a: Float64 0.1\n",
      "  b: Int64 2\n",
      "  c: Array{Float64}((3,)) [1.0, 2.0, 3.0]\n",
      "\n",
      "foo2 = Foo5\n",
      "  a: Float64 2.0\n",
      "  b: Int64 2\n",
      "  c: Array{Float64}((3,)) [1.0, 2.0, 3.0]\n",
      "\n"
     ]
    },
    {
     "data": {
      "text/plain": [
       "8.1"
      ]
     },
     "execution_count": 12,
     "metadata": {},
     "output_type": "execute_result"
    }
   ],
   "source": [
    "using Parameters # create named tuples with defaults using @with_kw\n",
    "\n",
    "@with_kw  struct Foo5\n",
    "    a::Float64 = 2.0     # adds default value\n",
    "    b::Int64\n",
    "    c::Vector{Float64}\n",
    "end\n",
    "\n",
    "foo = Foo5(a = 0.1, b = 2, c = [1.0, 2.0, 3.0])\n",
    "foo2 = Foo5(c = [1.0, 2.0, 3.0], b = 2)  # rearrange order, uses default values\n",
    "\n",
    "@show foo\n",
    "@show foo2\n",
    "\n",
    "function f(x)\n",
    "    @unpack a, b, c = x     # can use `@unpack` on any struct\n",
    "    return a + b + sum(c)\n",
    "end\n",
    "\n",
    "f(foo)"
   ]
  },
  {
   "cell_type": "code",
   "execution_count": 17,
   "metadata": {},
   "outputs": [
    {
     "data": {
      "text/plain": [
       "3-element Array{Float64,1}:\n",
       " 6.0\n",
       " 7.0\n",
       " 3.1"
      ]
     },
     "execution_count": 17,
     "metadata": {},
     "output_type": "execute_result"
    }
   ],
   "source": [
    "# BAD\n",
    "\n",
    "x = [5.0, 6.0, 2.1]\n",
    "\n",
    "function g(x::Array{Float64,1}) # not generic\n",
    "    y = zeros(length(x))   # not generic, hidden float!\n",
    "    z = Diagonal(ones(length(x)))  # not generic, hidden float!\n",
    "    q = ones(length(x))\n",
    "    y .= z * x + q\n",
    "    return y\n",
    "end\n",
    "\n",
    "# GOOD\n",
    "\n",
    "function g2(x)\n",
    "    y = similar(x)\n",
    "    z = I\n",
    "    q = ones(eltype(x),length(x))\n",
    "    y .= z * x +q\n",
    "    return y\n",
    "end\n",
    "\n",
    "g2(x)"
   ]
  },
  {
   "cell_type": "code",
   "execution_count": 20,
   "metadata": {},
   "outputs": [
    {
     "data": {
      "text/plain": [
       "(BigInt, Signed, Integer, Real, Number, Any)"
      ]
     },
     "execution_count": 20,
     "metadata": {},
     "output_type": "execute_result"
    }
   ],
   "source": [
    "supertypes(BigInt)"
   ]
  },
  {
   "cell_type": "code",
   "execution_count": 22,
   "metadata": {},
   "outputs": [
    {
     "data": {
      "text/plain": [
       "2-element Array{Int64,1}:\n",
       " 1\n",
       " 4"
      ]
     },
     "execution_count": 22,
     "metadata": {},
     "output_type": "execute_result"
    }
   ],
   "source": [
    "function g(x)\n",
    "    y = similar(x)\n",
    "    for i in eachindex(x)\n",
    "        y[i] = x[i]^2      # could broadcast\n",
    "    end\n",
    "    return y\n",
    "end\n",
    "\n",
    "g([Int(1), Int(2)])"
   ]
  },
  {
   "cell_type": "code",
   "execution_count": 27,
   "metadata": {},
   "outputs": [
    {
     "data": {
      "text/plain": [
       "BigFloat"
      ]
     },
     "execution_count": 27,
     "metadata": {},
     "output_type": "execute_result"
    }
   ],
   "source": [
    "x = [5.0, 6.0, 2.1]\n",
    "typeof(one(BigFloat(2)))"
   ]
  },
  {
   "cell_type": "code",
   "execution_count": 56,
   "metadata": {},
   "outputs": [
    {
     "name": "stdout",
     "output_type": "stream",
     "text": [
      "typeof(x) = StepRangeLen{Float64,Base.TwicePrecision{Float64},Base.TwicePrecision{Float64}}\n",
      "typeof(x_2) = StepRange{Int64,Int64}\n",
      "supertypes(typeof(x)) = (StepRangeLen{Float64,Base.TwicePrecision{Float64},Base.TwicePrecision{Float64}}, AbstractRange{Float64}, AbstractArray{Float64,1}, Any)\n"
     ]
    },
    {
     "data": {
      "image/png": "[encoded data removed]"
     },
     "execution_count": 56,
     "metadata": {},
     "output_type": "execute_result"
    }
   ],
   "source": [
    "x = range(0.0, 1.0, length = 20)\n",
    "x_2 = 1:1:20   # if integers\n",
    "\n",
    "@show typeof(x)\n",
    "@show typeof(x_2)\n",
    "@show supertypes(typeof(x));\n",
    "\n",
    "f(x) = x^2\n",
    "f_x = f.(x) \n",
    "\n",
    "slopes(f_x::AbstractVector, x::AbstractRange) = diff(f_x)/step(x)\n",
    "\n",
    "f_slopes = slopes(f_x,x)\n",
    "\n",
    "using Plots, ForwardDiff\n",
    "gr(fmt = :png);\n",
    "\n",
    "# operator to get the derivative of this function using AD\n",
    "D(f) = x -> ForwardDiff.derivative(f,x)\n",
    "\n",
    "# compare slopes with sine curve\n",
    "g(x) = sin(x)\n",
    "x = 0:0.1:5\n",
    "g_x = g.(x)\n",
    "\n",
    "g_slopes = slopes(g_x,x) #hand-made slopes function\n",
    "D_g_x = D(g).(x) #use forward diff functional\n",
    "\n",
    "plot(x[1:end-1],D_g_x[1:end-1],label = \"g with `AD'\")\n",
    "plot!(x[1:end-1],g_slopes,label = \"g slopes\")\n",
    "\n",
    "#\n",
    "\n"
   ]
  },
  {
   "cell_type": "code",
   "execution_count": 61,
   "metadata": {},
   "outputs": [
    {
     "data": {
      "image/png": "[encoded data removed]"
     },
     "execution_count": 61,
     "metadata": {},
     "output_type": "execute_result"
    }
   ],
   "source": [
    "# compare slopes of f(x) using \n",
    "x_2 = 1:1:20   # if integers\n",
    "\n",
    "f(x) = x^2\n",
    "f_x = f.(x_2)\n",
    "\n",
    "D_f_x = D(f).(x_2)\n",
    "f_slopes = slopes(f_x,x_2)\n",
    "\n",
    "plot(x_2[1:end-1],D_f_x[1:end-1],label = \"f with AD\")\n",
    "plot!(x_2[1:end-1],f_slopes,label = \"f slopes\")"
   ]
  },
  {
   "cell_type": "code",
   "execution_count": 72,
   "metadata": {},
   "outputs": [
    {
     "name": "stdout",
     "output_type": "stream",
     "text": [
      "typeof(q) <: Function = true\n",
      "typeof(x) <: AbstractArray = true\n",
      "typeof(x_array) <: AbstractArray = true\n"
     ]
    },
    {
     "data": {
      "text/plain": [
       "50-element Array{Float64,1}:\n",
       "  0.9983341664682815\n",
       "  0.9883591414823306\n",
       "  0.9685087586627835\n",
       "  0.9389813564731094\n",
       "  0.900071962955525\n",
       "  0.8521693479083239\n",
       "  0.7957521384265567\n",
       "  0.7313840366183171\n",
       "  0.6597081872796063\n",
       "  0.581440751804131\n",
       "  0.49736375253538867\n",
       "  0.4083172590579093\n",
       "  0.3151909944996664\n",
       "  ⋮\n",
       " -0.7590826824125478\n",
       " -0.6903633612395437\n",
       " -0.6147461575648228\n",
       " -0.5329866134917765\n",
       " -0.4459016433586687\n",
       " -0.3543613714006103\n",
       " -0.25928043775580983\n",
       " -0.16160885968367458\n",
       " -0.06232253930636389\n",
       "  0.03758648728260163\n",
       "  0.13711996211508132\n",
       "  0.23528337961194107"
      ]
     },
     "execution_count": 72,
     "metadata": {},
     "output_type": "execute_result"
    }
   ],
   "source": [
    "# try a different version where we pass a function instead of an abstract array\n",
    "\n",
    "slopes2(f::Function, x::AbstractRange) = diff(f.(x))/step(x)\n",
    "\n",
    "q(x) = sin(x)\n",
    "@show typeof(q) <: Function\n",
    "@show typeof(x) <: AbstractArray\n",
    "q_slopes2 = slopes2(q,x);\n",
    "\n",
    "# Finally, if x was an AbstractArray and not an AbstractRange we can no longer use a uniform step.\n",
    "\n",
    "slopes3(f::Function, x::AbstractArray) = diff(f.(x))./diff(x)\n",
    "\n",
    "x_array = Array(x)\n",
    "@show typeof(x_array) <: AbstractArray\n",
    "q_slopes3 = slopes3(q,x_array)\n"
   ]
  },
  {
   "cell_type": "code",
   "execution_count": 86,
   "metadata": {},
   "outputs": [
    {
     "name": "stdout",
     "output_type": "stream",
     "text": [
      "  109.798 ns (1 allocation: 112 bytes)\n",
      "  770.738 ns (4 allocations: 1.95 KiB)\n",
      "  0.028 ns (0 allocations: 0 bytes)\n",
      "  11.234 ns (0 allocations: 0 bytes)\n"
     ]
    }
   ],
   "source": [
    "# Exercise 1\n",
    "\n",
    "using LinearAlgebra\n",
    "using StaticArrays\n",
    "using BenchmarkTools\n",
    "\n",
    "N = 3\n",
    "A = rand(N, N)\n",
    "x = rand(N)\n",
    "\n",
    "@btime $A * $x  # the $ in front of variable names is sometimes important\n",
    "@btime inv($A)\n",
    "\n",
    "# Benchmark\n",
    "\n",
    "A_s = @SMatrix rand(N,N)\n",
    "x_s =  @SVector rand(N)\n",
    "\n",
    "@btime  $A_s * $x_s\n",
    "@btime inv($A_s);\n",
    "\n"
   ]
  },
  {
   "cell_type": "code",
   "execution_count": 98,
   "metadata": {},
   "outputs": [
    {
     "name": "stdout",
     "output_type": "stream",
     "text": [
      "  0.029 ns (0 allocations: 0 bytes)\n",
      "supertypes(typeof(A_s)) = (SArray{Tuple{3,3},Float64,2,9}, StaticArray{Tuple{3,3},Float64,2}, AbstractArray{Float64,2}, Any)\n",
      "supertypes(typeof(A)) = (Array{Float64,2}, DenseArray{Float64,2}, AbstractArray{Float64,2}, Any)\n"
     ]
    }
   ],
   "source": [
    "# very fast matrix multiplication, use $ and denote as static vectors\n",
    "@btime $A_s * $x_s\n",
    "@show supertypes(typeof(A_s))\n",
    "@show supertypes(typeof(A));"
   ]
  },
  {
   "cell_type": "code",
   "execution_count": 104,
   "metadata": {},
   "outputs": [
    {
     "name": "stdout",
     "output_type": "stream",
     "text": [
      "  955.231 ns (9 allocations: 1.91 KiB)\n",
      "typeof(R) = Array{Float64,2}\n",
      "  0.029 ns (0 allocations: 0 bytes)\n"
     ]
    }
   ],
   "source": [
    "# Exercise 2\n",
    "\n",
    "Σ = [0.4  0.3;\n",
    "     0.3  0.45]\n",
    "G = I\n",
    "R = 0.5 * Σ\n",
    "\n",
    "gain(Σ, G, R) = Σ * G' * inv(G * Σ * G' + R)\n",
    "@btime gain($Σ, $G, $R)\n",
    "\n",
    "# Benchmark\n",
    "\n",
    "Σ_s = @SMatrix [0.4  0.3; 0.3  0.45]\n",
    "R_s = 0.5 * Σ_s\n",
    "\n",
    "@show typeof(R) #static array, too\n",
    "\n",
    "@btime gain($Σ_s, $G, $R_s);\n",
    "\n",
    "\n"
   ]
  },
  {
   "cell_type": "code",
   "execution_count": 112,
   "metadata": {},
   "outputs": [
    {
     "name": "stdout",
     "output_type": "stream",
     "text": [
      "p = Polynomial(2 - 5*x + 2*x^2)\n",
      "typeof(p) = Polynomial{Int64}\n",
      "(p(0.1), p′(0.1)) = (1.52, -4.6)\n",
      "roots(p) = [0.5, 2.0]\n"
     ]
    },
    {
     "data": {
      "image/png": "[encoded data removed]"
     },
     "execution_count": 112,
     "metadata": {},
     "output_type": "execute_result"
    }
   ],
   "source": [
    "# Exercise 3\n",
    "\n",
    "using Polynomials\n",
    "\n",
    "p = Polynomial([2, -5, 2], :x)  # :x just gives a symbol for display\n",
    "\n",
    "@show p\n",
    "@show typeof(p)\n",
    "p′ = derivative(p)   # gives the derivative of p, another polynomial\n",
    "@show p(0.1), p′(0.1)  # call like a function\n",
    "@show roots(p);   # find roots such that p(x) = 0\n",
    "\n",
    "# plot p and p'\n",
    "\n",
    "r = range(-2.0, 2.0, length = 20)\n",
    "\n",
    "p_r = p.(r)\n",
    "p′_r = p′.(r)\n",
    "\n",
    "plot(r[1:end-1],p′_r[1:end-1],label=\"Dp(x)\")\n",
    "plot!(r,p_r,label=\"p(x)\")\n"
   ]
  },
  {
   "cell_type": "code",
   "execution_count": 117,
   "metadata": {},
   "outputs": [
    {
     "name": "stdout",
     "output_type": "stream",
     "text": [
      "newtonsmethod(p, 5) = (root = 2.0, normdiff = 8.058442801939236e-12, iter = 8)\n",
      "roots(p) = [0.5, 2.0]\n",
      "  1.101 μs (44 allocations: 1.09 KiB)\n",
      "  1.849 μs (18 allocations: 2.14 KiB)\n"
     ]
    }
   ],
   "source": [
    "# Exercise 4\n",
    "\n",
    "function newtonsmethod(p::Polynomial, x_0; tolerance = 1E-7, maxiter = 100)\n",
    "    \n",
    "    p′ = derivative(p)\n",
    "    \n",
    "    #initialise loop\n",
    "    iter = 1\n",
    "    normdiff = Inf\n",
    "    x_old = x_0\n",
    "    \n",
    "    while normdiff > tolerance && iter < maxiter\n",
    "        \n",
    "        x_new = x_old - p(x_old)/ p′(x_old)\n",
    "        normdiff = norm(x_new - x_old)\n",
    "        \n",
    "        iter += 1 #continuation\n",
    "        x_old = x_new\n",
    "    end\n",
    "    return (root = x_old, normdiff = normdiff, iter = iter )\n",
    "end\n",
    "\n",
    "# Compute roots\n",
    "\n",
    "p = Polynomial([2, -5, 2], :x)  # :x just gives a symbol for display\n",
    "\n",
    "@show newtonsmethod(p, 5);   # find roots such that p(x) = 0 \n",
    "@show roots(p)\n",
    "@btime newtonsmethod(p, 5);  \n",
    "@btime roots(p);   \n",
    "\n"
   ]
  },
  {
   "cell_type": "code",
   "execution_count": 382,
   "metadata": {},
   "outputs": [
    {
     "data": {
      "text/plain": [
       "0.3359375"
      ]
     },
     "execution_count": 382,
     "metadata": {},
     "output_type": "execute_result"
    }
   ],
   "source": [
    "# Exercise 5\n",
    "function trapezoidal(f::AbstractArray{Float64,1}, x::AbstractArray{Float64,1})\n",
    "    sol = similar(x)\n",
    "    del = diff(x)\n",
    "    for i in 2:length(x)\n",
    "        sol[i] = (f_x[i]+f_x[i-1])/2*del[i-1]\n",
    "    end\n",
    "    return sum(sol)\n",
    "end\n",
    "\n",
    "x = range(0.0,1.0,length=9)\n",
    "f(x) = x^2\n",
    "f_x = f.(x)\n",
    "\n",
    "\n",
    "int = trapezoidal(f_x,x)\n"
   ]
  },
  {
   "cell_type": "code",
   "execution_count": 405,
   "metadata": {},
   "outputs": [
    {
     "data": {
      "text/plain": [
       "NaN"
      ]
     },
     "execution_count": 405,
     "metadata": {},
     "output_type": "execute_result"
    }
   ],
   "source": [
    "function trapezoidal2(f::AbstractArray{Float64}, x::AbstractRange{Float64})\n",
    "    sol = similar(x)\n",
    "    del = step(x)\n",
    "    for i in 2:length(x)\n",
    "        sol[i] = (f_x[i]+ f_x[i-1])/2*del\n",
    "    end\n",
    "    return sum(sol)\n",
    "end\n",
    "\n",
    "x = range(0.0,1.0,length=1100)\n",
    "f(x) = x^2\n",
    "f_x = f.(x)\n",
    "\n",
    "integral = trapezoidal2(f_x,x)\n"
   ]
  },
  {
   "cell_type": "code",
   "execution_count": 408,
   "metadata": {},
   "outputs": [
    {
     "data": {
      "text/plain": [
       "0.2500002069877405"
      ]
     },
     "execution_count": 408,
     "metadata": {},
     "output_type": "execute_result"
    }
   ],
   "source": [
    "f(x) = x^3\n",
    "x̄ = 1.0\n",
    "x̲ = 0.0\n",
    "N = 1100;\n",
    "\n",
    "function trapezoidal3(f, x̲::Real , x̄::Real , N::Int64)\n",
    "    x = range(x̲, x̄, length = N)\n",
    "    f_x = f.(x)\n",
    "    \n",
    "    #implementation the same as trapezodal2\n",
    "    sol = similar(x)\n",
    "    del = step(x)\n",
    "    for i in 2:length(x)\n",
    "        sol[i] = (f_x[i]+ f_x[i-1])/2*del\n",
    "    end\n",
    "    return sum(sol)\n",
    "end\n",
    "\n",
    "integral = trapezoidal3(f ,x̲ , x̄ , N)\n"
   ]
  },
  {
   "cell_type": "code",
   "execution_count": 411,
   "metadata": {},
   "outputs": [
    {
     "name": "stdout",
     "output_type": "stream",
     "text": [
      "f(0.0, 3.0) = 1.5\n",
      "f(0.0, 3.1) = 1.55\n"
     ]
    },
    {
     "data": {
      "text/plain": [
       "0.5"
      ]
     },
     "execution_count": 411,
     "metadata": {},
     "output_type": "execute_result"
    }
   ],
   "source": [
    "# Exercise 6\n",
    "\n",
    "using ForwardDiff\n",
    "\n",
    "function f(a, b; N::Int64 = 50)\n",
    "    r = range(a, b, length=N) # one\n",
    "return mean(r)\n",
    "end\n",
    "\n",
    "Df(x) = ForwardDiff.derivative(y -> f(0.0, y), x)\n",
    "\n",
    "@show f(0.0, 3.0)\n",
    "@show f(0.0, 3.1)\n",
    "\n",
    "Df(3.0)\n"
   ]
  },
  {
   "cell_type": "code",
   "execution_count": 413,
   "metadata": {},
   "outputs": [
    {
     "data": {
      "text/plain": [
       "1.5"
      ]
     },
     "execution_count": 413,
     "metadata": {},
     "output_type": "execute_result"
    }
   ],
   "source": [
    "function f(a, b; N::Int64 = 50)\n",
    "    r = range(a, b, length=N) # one\n",
    "return mean(r)\n",
    "end\n",
    "\n"
   ]
  },
  {
   "cell_type": "code",
   "execution_count": null,
   "metadata": {},
   "outputs": [],
   "source": []
  }
 ],
 "metadata": {
  "kernelspec": {
   "display_name": "Julia 1.5.3",
   "language": "julia",
   "name": "julia-1.5"
  },
  "language_info": {
   "file_extension": ".jl",
   "mimetype": "application/julia",
   "name": "julia",
   "version": "1.5.3"
  }
 },
 "nbformat": 4,
 "nbformat_minor": 4
}
